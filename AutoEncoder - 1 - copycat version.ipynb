{
 "cells": [
  {
   "cell_type": "code",
   "execution_count": 1,
   "metadata": {},
   "outputs": [
    {
     "name": "stderr",
     "output_type": "stream",
     "text": [
      "Using TensorFlow backend.\n"
     ]
    }
   ],
   "source": [
    "# modules in other files\n",
    "from DataGenerator import DataGenerator\n",
    "from Models import CopyCatModel\n",
    "\n",
    "import numpy as np\n",
    "import matplotlib.pyplot as plt\n",
    "from tqdm import tqdm\n",
    "import h5pickle as h5py"
   ]
  },
  {
   "cell_type": "code",
   "execution_count": 5,
   "metadata": {},
   "outputs": [],
   "source": [
    "# reload modules in case I change them\n",
    "%load_ext autoreload\n",
    "%autoreload 2"
   ]
  },
  {
   "cell_type": "code",
   "execution_count": 2,
   "metadata": {},
   "outputs": [],
   "source": [
    "file = h5py.File('./Data/fonts.hdf5', 'r', skip_cache=False)"
   ]
  },
  {
   "cell_type": "code",
   "execution_count": 3,
   "metadata": {},
   "outputs": [],
   "source": [
    "fonts = file['fonts']"
   ]
  },
  {
   "cell_type": "code",
   "execution_count": 4,
   "metadata": {},
   "outputs": [],
   "source": [
    "dg = DataGenerator(fonts, batch_size=512, shuffle=False)"
   ]
  },
  {
   "cell_type": "code",
   "execution_count": 5,
   "metadata": {},
   "outputs": [],
   "source": [
    "model = CopyCatModel(56443, 62, leaky_relu_alpha=0.1, regularization=0.001, lr=1)"
   ]
  },
  {
   "cell_type": "code",
   "execution_count": 6,
   "metadata": {},
   "outputs": [],
   "source": [
    "# model.model.load_weights('./Weights/CopyCat-epoch-3.h5')"
   ]
  },
  {
   "cell_type": "code",
   "execution_count": null,
   "metadata": {},
   "outputs": [
    {
     "name": "stdout",
     "output_type": "stream",
     "text": [
      "Epoch 1/1\n"
     ]
    },
    {
     "name": "stderr",
     "output_type": "stream",
     "text": [
      "Exception in thread Thread-6:\n",
      "Traceback (most recent call last):\n",
      "  File \"C:\\Users\\david\\Anaconda3\\envs\\KerasGPU2\\lib\\threading.py\", line 914, in _bootstrap_inner\n",
      "    self.run()\n",
      "  File \"C:\\Users\\david\\Anaconda3\\envs\\KerasGPU2\\lib\\threading.py\", line 862, in run\n",
      "    self._target(*self._args, **self._kwargs)\n",
      "  File \"C:\\Users\\david\\Anaconda3\\envs\\KerasGPU2\\lib\\site-packages\\keras\\utils\\data_utils.py\", line 548, in _run\n",
      "    with closing(self.executor_fn(_SHARED_SEQUENCES)) as executor:\n",
      "  File \"C:\\Users\\david\\Anaconda3\\envs\\KerasGPU2\\lib\\site-packages\\keras\\utils\\data_utils.py\", line 522, in <lambda>\n",
      "    initargs=(seqs,))\n",
      "  File \"C:\\Users\\david\\Anaconda3\\envs\\KerasGPU2\\lib\\multiprocessing\\context.py\", line 118, in Pool\n",
      "    context=self.get_context())\n",
      "  File \"C:\\Users\\david\\Anaconda3\\envs\\KerasGPU2\\lib\\multiprocessing\\pool.py\", line 174, in __init__\n",
      "    self._repopulate_pool()\n",
      "  File \"C:\\Users\\david\\Anaconda3\\envs\\KerasGPU2\\lib\\multiprocessing\\pool.py\", line 239, in _repopulate_pool\n",
      "    w.start()\n",
      "  File \"C:\\Users\\david\\Anaconda3\\envs\\KerasGPU2\\lib\\multiprocessing\\process.py\", line 105, in start\n",
      "    self._popen = self._Popen(self)\n",
      "  File \"C:\\Users\\david\\Anaconda3\\envs\\KerasGPU2\\lib\\multiprocessing\\context.py\", line 313, in _Popen\n",
      "    return Popen(process_obj)\n",
      "  File \"C:\\Users\\david\\Anaconda3\\envs\\KerasGPU2\\lib\\multiprocessing\\popen_spawn_win32.py\", line 66, in __init__\n",
      "    reduction.dump(process_obj, to_child)\n",
      "  File \"C:\\Users\\david\\Anaconda3\\envs\\KerasGPU2\\lib\\multiprocessing\\reduction.py\", line 59, in dump\n",
      "    ForkingPickler(file, protocol).dump(obj)\n",
      "ValueError: must use protocol 4 or greater to copy this object; since __getnewargs_ex__ returned keyword arguments.\n",
      "\n"
     ]
    }
   ],
   "source": [
    "model.model.fit_generator(dg) # , use_multiprocessing=True, workers=2)"
   ]
  },
  {
   "cell_type": "code",
   "execution_count": 74,
   "metadata": {},
   "outputs": [],
   "source": [
    "model.model.save_weights('./Weights/CopyCat-epoch-3.h5')"
   ]
  },
  {
   "cell_type": "code",
   "execution_count": 68,
   "metadata": {},
   "outputs": [],
   "source": [
    "def plot_font(font):\n",
    "    fig=plt.figure(figsize=(10, 10))\n",
    "    columns = 8\n",
    "    rows = 8\n",
    "    for i in range(1, 62 +1):\n",
    "        img = font[i-1].reshape(64, 64)\n",
    "        fig.add_subplot(rows, columns, i)\n",
    "        plt.axis('off')\n",
    "        plt.imshow(img)\n",
    "    plt.show()"
   ]
  },
  {
   "cell_type": "code",
   "execution_count": 84,
   "metadata": {},
   "outputs": [],
   "source": [
    "char = np.zeros((62, 62))\n",
    "char[np.arange(62), np.arange(62)] = 1"
   ]
  },
  {
   "cell_type": "code",
   "execution_count": 85,
   "metadata": {},
   "outputs": [],
   "source": [
    "fonts = np.zeros((62, 56443))\n",
    "fonts[:, 0] = 1"
   ]
  },
  {
   "cell_type": "code",
   "execution_count": 86,
   "metadata": {},
   "outputs": [],
   "source": [
    "t = model.model.predict([fonts, char])"
   ]
  },
  {
   "cell_type": "code",
   "execution_count": 93,
   "metadata": {},
   "outputs": [
    {
     "data": {
      "text/plain": [
       "1.473606e-13"
      ]
     },
     "execution_count": 93,
     "metadata": {},
     "output_type": "execute_result"
    }
   ],
   "source": [
    "(t[0] - t[1]).sum()"
   ]
  },
  {
   "cell_type": "code",
   "execution_count": 101,
   "metadata": {},
   "outputs": [
    {
     "data": {
      "text/plain": [
       "array([ 1.05458257e-05,  4.71287535e-07,  3.26014869e-03, -9.73217189e-04,\n",
       "        1.76942386e-02, -2.70062150e-03, -5.45397683e-09,  6.74841349e-10,\n",
       "        7.76132569e-04, -1.23622071e-04, -2.37660017e-04,  1.69689290e-10,\n",
       "        1.06029969e-04,  1.45961903e-03, -6.37883750e-06, -3.56946856e-07,\n",
       "       -1.56975002e-08, -2.52191330e-05, -8.48359889e-07,  5.48728389e-11,\n",
       "        1.98477998e-10, -8.99239710e-11,  5.18519346e-06, -1.26354607e-07,\n",
       "        1.27928215e-04,  9.75940893e-08,  4.58300553e-09, -1.96121007e-04,\n",
       "       -1.25107125e-08, -9.66756772e-08,  6.86508372e-07,  1.52007976e-06,\n",
       "        1.12366441e-04,  5.98805840e-04, -2.73753393e-08, -2.16137871e-10,\n",
       "        2.48078886e-05,  1.10016769e-08,  3.34334539e-11, -2.94486907e-10],\n",
       "      dtype=float32)"
      ]
     },
     "execution_count": 101,
     "metadata": {},
     "output_type": "execute_result"
    }
   ],
   "source": [
    "model.model.layers[1].get_weights()[0][0]"
   ]
  },
  {
   "cell_type": "code",
   "execution_count": 90,
   "metadata": {},
   "outputs": [
    {
     "data": {
      "text/plain": [
       "array([9.5804982e-11, 3.3648238e-14, 4.5961919e-12, ..., 5.7821903e-17,\n",
       "       2.3201511e-16, 7.7661255e-13], dtype=float32)"
      ]
     },
     "execution_count": 90,
     "metadata": {},
     "output_type": "execute_result"
    }
   ],
   "source": [
    "t[1]"
   ]
  },
  {
   "cell_type": "code",
   "execution_count": 87,
   "metadata": {},
   "outputs": [
    {
     "data": {
      "text/plain": [
       "<matplotlib.image.AxesImage at 0x24e571c8828>"
      ]
     },
     "execution_count": 87,
     "metadata": {},
     "output_type": "execute_result"
    },
    {
     "data": {
      "image/png": "[encoded data removed]",
      "text/plain": [
       "<Figure size 432x288 with 1 Axes>"
      ]
     },
     "metadata": {
      "needs_background": "light"
     },
     "output_type": "display_data"
    }
   ],
   "source": [
    "plt.imshow(t[-1].reshape(64, 64))"
   ]
  },
  {
   "cell_type": "code",
   "execution_count": 88,
   "metadata": {},
   "outputs": [
    {
     "data": {
      "image/png": "[encoded data removed]",
      "text/plain": [
       "<Figure size 720x720 with 62 Axes>"
      ]
     },
     "metadata": {
      "needs_background": "light"
     },
     "output_type": "display_data"
    }
   ],
   "source": [
    "plot_font(t)"
   ]
  },
  {
   "cell_type": "code",
   "execution_count": null,
   "metadata": {},
   "outputs": [],
   "source": []
  }
 ],
 "metadata": {
  "kernelspec": {
   "display_name": "Python 3",
   "language": "python",
   "name": "python3"
  },
  "language_info": {
   "codemirror_mode": {
    "name": "ipython",
    "version": 3
   },
   "file_extension": ".py",
   "mimetype": "text/x-python",
   "name": "python",
   "nbconvert_exporter": "python",
   "pygments_lexer": "ipython3",
   "version": "3.5.6"
  }
 },
 "nbformat": 4,
 "nbformat_minor": 2
}
